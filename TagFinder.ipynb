{
 "cells": [
  {
   "cell_type": "code",
   "execution_count": 1,
   "metadata": {},
   "outputs": [],
   "source": [
    "# coding: -*- utf-8 -*-"
   ]
  },
  {
   "cell_type": "code",
   "execution_count": 1,
   "metadata": {},
   "outputs": [
    {
     "data": {
      "text/plain": [
       "'TagFinder.py\\n\\nOverview:\\n  Sphinx 独自ディレクティブ\\n  .. tagfinder:: ディレクティブと tagfile によりインデックスを生成するho\\n\\nUsage:\\n\\n    - 以下のディレクティブを書くと、指定パス(tagSearchPath) に対してフォルダとファイル名の走査を行う::\\n\\n      .. tagfinder::\\n        :file: tagFileName\\n        :tag: tagname\\n        :path: \\\\file\\to\\n\\n\\n    - 指定ファイル名(tagFileName) にがあるフォルダパスを抽出 (tag_path_list)\\n\\n      指定ファイルの書き方::\\n\\n        Title\\n        :tftag: tagname, tagname2, tagname3\\n        :desc: description\\n\\n\\n    - tag_path_list の各ファイルに対して以下の処理を行う\\n\\n      ファイル内に指定の文字列(tagname)が存在するか検索\\n\\n      存在する場合は、当該ファイルの一行目をタイトル、フォルダパスとして取得し、リンクリスト化::\\n\\n        `title <file://file/to/path/>`, \"description\"\\n        `title <file://file/to/path/>`, \"description\"\\n        `title <file://file/to/path/>`, \"description\"\\n'"
      ]
     },
     "execution_count": 1,
     "metadata": {},
     "output_type": "execute_result"
    }
   ],
   "source": [
    "\"\"\"TagFinder.py\n",
    "\n",
    "Overview:\n",
    "  Sphinx 独自ディレクティブ\n",
    "  .. tagfinder:: ディレクティブと tagfile によりインデックスを生成するho\n",
    "\n",
    "Usage:\n",
    "\n",
    "    - 以下のディレクティブを書くと、指定パス(tagSearchPath) に対してフォルダとファイル名の走査を行う::\n",
    "\n",
    "      .. tagfinder::\n",
    "        :file: tagFileName\n",
    "        :tag: tagname\n",
    "        :path: \\\\file\\to\n",
    "\n",
    "\n",
    "    - 指定ファイル名(tagFileName) にがあるフォルダパスを抽出 (tag_path_list)\n",
    "\n",
    "      指定ファイルの書き方::\n",
    "\n",
    "        Title\n",
    "        :tftag: tagname, tagname2, tagname3\n",
    "        :desc: description\n",
    "\n",
    "\n",
    "    - tag_path_list の各ファイルに対して以下の処理を行う\n",
    "\n",
    "      ファイル内に指定の文字列(tagname)が存在するか検索\n",
    "\n",
    "      存在する場合は、当該ファイルの一行目をタイトル、フォルダパスとして取得し、リンクリスト化::\n",
    "\n",
    "        `title <file://file/to/path/>`, \"description\"\n",
    "        `title <file://file/to/path/>`, \"description\"\n",
    "        `title <file://file/to/path/>`, \"description\"\n",
    "\"\"\""
   ]
  },
  {
   "cell_type": "code",
   "execution_count": 2,
   "metadata": {},
   "outputs": [],
   "source": [
    "from docutils import nodes          # html生成処理\n",
    "import re                           # 正規表現処理\n",
    "import string                       # 文字処理"
   ]
  },
  {
   "cell_type": "code",
   "execution_count": 3,
   "metadata": {},
   "outputs": [],
   "source": [
    "import os.path                      # OS処理\n",
    "from chardet.universaldetector import UniversalDetector # 文字エンコード自動判定\n",
    "from collections import OrderedDict # 順序付き辞書(dict)\n",
    "from docopt import docopt           # コマンド処理時の引数の定義と解釈\n",
    "import shelve                       # データ永続化"
   ]
  },
  {
   "cell_type": "code",
   "execution_count": 4,
   "metadata": {},
   "outputs": [],
   "source": [
    "def convertToWSLStyle(text):\n",
    "    \"\"\"\n",
    "    character escape function\n",
    "    \"\"\"\n",
    "    \n",
    "    replaceDic = { \n",
    "        # Escape character : code list\n",
    "        r'\\^' :r'%5E', \n",
    "        r'\\~' :r'%7E', \n",
    "        r'{'  :r'%7B', \n",
    "        r'}'  :r'%7D', \n",
    "        r'\\[' :r'%5B', \n",
    "        r'\\]' :r'%5D', \n",
    "        r';'  :r'%3B', \n",
    "        r'@'  :r'%40', \n",
    "        r'='  :r'%3D', \n",
    "        r'\\&' :r'%26', \n",
    "        r'\\$' :r'%24', \n",
    "        r'#'  :r'%23', \n",
    "        r' '  :r'%20', \n",
    "        '\\\\\\\\':r'/',   \n",
    "    }\n",
    "\n",
    "    text = re.sub(r'%', r'%25', text)     # escape \"%\" character at first\n",
    "    for (reg, rep) in replaceDic.items(): # escape replaceDic characters\n",
    "        text = re.sub(reg, rep, text)\n",
    "\n",
    "    return text\n",
    "    "
   ]
  },
  {
   "cell_type": "code",
   "execution_count": 5,
   "metadata": {},
   "outputs": [],
   "source": [
    "def smblink_role(typ, rawtext, text, lineno, inliner, options={}, content=[]):\n",
    "    \"\"\"\n",
    "    sphinx role function\n",
    "    Role to create link addresses.\n",
    "    \"\"\"\n",
    "    text = rawtext\n",
    "    if '`' in text:\n",
    "        text = text.split('`')[1]         # drop role name\n",
    "    if '<' in text and '>' in text:\n",
    "        name, path = text.split('<')      # split name, path by \"<\"\n",
    "        path = path.split('>')[0]\n",
    "        name = re.sub(r'[ ]+$','', name)  # remove spaces before \"<\"\n",
    "    else:\n",
    "        name = text\n",
    "        path = name\n",
    "    href = u\"<a href=\\\"file:\" + convertToWSLStyle(path) + u\"\\\">\" + name + u\"</a>\"\n",
    "    node = nodes.raw('', href, format='html')\n",
    "    return [node], []"
   ]
  },
  {
   "cell_type": "code",
   "execution_count": 6,
   "metadata": {},
   "outputs": [],
   "source": [
    "def isContain(filelist, keywoard):\n",
    "    \"\"\"指定のファイル名がリストに存在するかの判定\"\"\"\n",
    "    for filename in filelist:\n",
    "        if filename == keywoard:\n",
    "            return True"
   ]
  },
  {
   "cell_type": "code",
   "execution_count": 7,
   "metadata": {},
   "outputs": [],
   "source": [
    "def walk_path_to_target_path_list(search_root_path, target_file_name):\n",
    "    \"\"\"指定した path を巡回して、target_path_list を作る\"\"\"\n",
    "\n",
    "    #target_dict = OrderedDict() # 順序付き辞書(dict)\n",
    "    _target_path_list = [] # 辞書入れリスト\n",
    "\n",
    "    for _root, _dirs, _files in os.walk(search_root_path): # 相対path, サブディレクトリ, 内含ファイルリスト を走査\n",
    "\n",
    "        #print( root,dirs,files) # debug\n",
    "\n",
    "        if (isContain(_files, target_file_name)): # 指定するファイル名を含むディレクトリの場合は以下を処理\n",
    "            _drive, _path = os.path.splitdrive(_root) # ネットワークドライブ名とパス名を分離         \n",
    "            _target_dict = {'drive': _drive,                                 # windows 共有ディレクトリのドライブ名\n",
    "                           'path': _path,                                   # target file を含まない path\n",
    "                           'full_path': os.path.join(_path, target_file_name),   # target file を含む path\n",
    "                           'name': os.path.basename(_path),                 # 最終ディレクトリ名を生成対象ファイル名に\n",
    "                           'depth': _path.count(os.sep),                    # 階層の深さを\n",
    "                           'timestamp': os.stat(os.path.join(_path, target_file_name)).st_mtime # TimeStamp\n",
    "                           }                    \n",
    "            _target_path_list.append(_target_dict)\n",
    "            \n",
    "            #for Debug\n",
    "            #print(\"drive: %s , path: %s , full_path: %s , name: %s , depth: %d\" % \n",
    "            #      (_drive,_path,os.path.join(_path, target_file_name), os.path.basename(_path), _path.count(os.sep)))\n",
    "\n",
    "\n",
    "    return sorted(_target_path_list,key=lambda my_dict: my_dict['path'])"
   ]
  },
  {
   "cell_type": "code",
   "execution_count": 8,
   "metadata": {},
   "outputs": [],
   "source": [
    "def detect_file_encode(file):\n",
    "    \"\"\"ファイルの文字エンコード判定\"\"\"\n",
    "    detector = UniversalDetector()\n",
    "\n",
    "    try:\n",
    "        with open(file, mode='rb') as f:\n",
    "            while True:\n",
    "                binary = f.readline()\n",
    "                if binary == b'':\n",
    "                    # ファイルを最後まで読みきった\n",
    "                    break\n",
    "\n",
    "                detector.feed(binary)\n",
    "                if detector.done:\n",
    "                    # 十分な確度でエンコーディングが推定できた\n",
    "                    break\n",
    "    finally:\n",
    "        detector.close()\n",
    "\n",
    "    return detector.result"
   ]
  },
  {
   "cell_type": "code",
   "execution_count": 9,
   "metadata": {},
   "outputs": [],
   "source": [
    "def tagfinder(file, tag, path):\n",
    "    \"\"\"\n",
    "    - 以下のディレクティブを書くと、指定パス(tagSearchPath) に対してフォルダとファイル名の走査を行う::\n",
    "\n",
    "      .. tagfinder::\n",
    "        :file: tagFileName\n",
    "        :tag: tagname\n",
    "        :path: \\\\file\\to\n",
    "    \"\"\"\n",
    "    \n",
    "    path_list = walk_path_to_target_path_list(path, file)\n",
    "    \n",
    "    return path_list"
   ]
  },
  {
   "cell_type": "code",
   "execution_count": 10,
   "metadata": {},
   "outputs": [],
   "source": [
    "def match_pattern(pattern, line):\n",
    "    \"\"\"渡されたlineからpatternを正規表現検索する。\n",
    "    ただし、pattern は正規表現エスケープされ、以下の特殊な変換が行われる。\n",
    "    アスタリスク(*) は 正規表現 .* に\n",
    "    クエスチョン(?) は 正規表現 . に変換される\n",
    "    \n",
    "    返り値は re.match オブジェクト(bool値として扱える)\"\"\"\n",
    "\n",
    "    tmppt = re.escape(pattern) #入力パターンをエスケープ\n",
    "    tmppt = re.sub(r'\\\\\\*',r'.*',tmppt) # アスタリスク(*) は正規表現の任意文字(.*)に変形\n",
    "    tmppt = re.sub(r'\\\\\\?',r'.',tmppt)  # クエスチョン(?) は正規表現の任意1文字(.)に変形\n",
    "    \n",
    "    pt =  re.compile(tmppt) # 正規表現にコンパイル\n",
    "\n",
    "    return re.search(pt,line) # 検索結果は re.match オブジェクト"
   ]
  },
  {
   "cell_type": "code",
   "execution_count": 72,
   "metadata": {},
   "outputs": [],
   "source": [
    "def converted_match_pattern(pattern):\n",
    "    \"\"\"渡されたpatternをcompileされた正規表現として返す\n",
    "    ただし、pattern は正規表現エスケープされ、以下の特殊な変換が行われる。\n",
    "    アスタリスク(*) は 正規表現 .* に\n",
    "    クエスチョン(?) は 正規表現 . に変換される\n",
    "    \n",
    "    返り値は re.match オブジェクト(bool値として扱える)\"\"\"\n",
    "\n",
    "    tmppt = re.escape(pattern) #入力パターンをエスケープ\n",
    "    tmppt = re.sub(r'\\\\\\*',r'.*',tmppt) # アスタリスク(*) は正規表現の任意文字(.*)に変形\n",
    "    tmppt = re.sub(r'\\\\\\?',r'.',tmppt)  # クエスチョン(?) は正規表現の任意1文字(.)に変形\n",
    "    \n",
    "    return re.compile(tmppt) # 正規表現にコンパイル"
   ]
  },
  {
   "cell_type": "code",
   "execution_count": 86,
   "metadata": {},
   "outputs": [],
   "source": [
    "FILENAME = 'tag.txt'\n",
    "TAG = 'this-is-tag-?00'\n",
    "PATH = './test'"
   ]
  },
  {
   "cell_type": "code",
   "execution_count": 87,
   "metadata": {},
   "outputs": [],
   "source": [
    "path_list = tagfinder(FILENAME, TAG, PATH)"
   ]
  },
  {
   "cell_type": "code",
   "execution_count": 88,
   "metadata": {},
   "outputs": [
    {
     "data": {
      "text/plain": [
       "[{'depth': 5,\n",
       "  'drive': '',\n",
       "  'full_path': './test/Folder/Folder1/FolderA/FolderA1/tag.txt',\n",
       "  'name': 'FolderA1',\n",
       "  'path': './test/Folder/Folder1/FolderA/FolderA1',\n",
       "  'timestamp': 1532745314.09097},\n",
       " {'depth': 5,\n",
       "  'drive': '',\n",
       "  'full_path': './test/Folder/Folder1/FolderA/FolderA2/tag.txt',\n",
       "  'name': 'FolderA2',\n",
       "  'path': './test/Folder/Folder1/FolderA/FolderA2',\n",
       "  'timestamp': 1533952370.8510463},\n",
       " {'depth': 5,\n",
       "  'drive': '',\n",
       "  'full_path': './test/Folder/Folder1/FolderB/FolderB1/tag.txt',\n",
       "  'name': 'FolderB1',\n",
       "  'path': './test/Folder/Folder1/FolderB/FolderB1',\n",
       "  'timestamp': 1533210429.1377516}]"
      ]
     },
     "execution_count": 88,
     "metadata": {},
     "output_type": "execute_result"
    }
   ],
   "source": [
    "path_list"
   ]
  },
  {
   "cell_type": "code",
   "execution_count": 95,
   "metadata": {
    "scrolled": true
   },
   "outputs": [
    {
     "name": "stdout",
     "output_type": "stream",
     "text": [
      "['FolderA1', ' THIS IS DESCRIPTION ']\n",
      "<a href=\"file:./test/Folder/Folder1/FolderA/FolderA1\">FolderA1</a> THIS IS DESCRIPTION \n",
      "--- file closed\n",
      "['FolderA2', ' THIS IS DESCRIPTION DESCRIPTION HOGEHOGE  ']\n",
      "<a href=\"file:./test/Folder/Folder1/FolderA/FolderA2\">FolderA2</a> THIS IS DESCRIPTION DESCRIPTION HOGEHOGE  \n",
      "['FolderA2', ' THIS IS DESCRIPTION FOR 2nd   DESCRIPTION FUGAFUGA ']\n",
      "<a href=\"file:./test/Folder/Folder1/FolderA/FolderA2\">FolderA2</a> THIS IS DESCRIPTION FOR 2nd   DESCRIPTION FUGAFUGA \n",
      "--- file closed\n",
      "['FolderB1', ' THIS IS DESCRIPTION ']\n",
      "<a href=\"file:./test/Folder/Folder1/FolderB/FolderB1\">FolderB1</a> THIS IS DESCRIPTION \n",
      "--- file closed\n"
     ]
    }
   ],
   "source": [
    "for target in path_list:\n",
    "    \"\"\"path_listの中身を評価して、リンクを追記していく\"\"\"\n",
    "    \n",
    "    full_path = os.path.join(target['drive'], target['full_path'])\n",
    "\n",
    "    try:\n",
    "        with open(full_path, mode='rt') as f:\n",
    "            while True:\n",
    "                lines = f.readlines()\n",
    "                break\n",
    "        for count, line in enumerate(lines):\n",
    "            \"\"\":tftag:の探索\n",
    "            count : 0開始の行数\n",
    "            line  : 行の中身\"\"\"\n",
    "            \n",
    "            #print(str(count) + \">\" + line)\n",
    "            taglist = []  # 見つけた :tftag: と関連する :desc: タグを格納する 2次元配列 [ [name,desc], [name,desc], ..]\n",
    "            \n",
    "            if match_pattern(':tftag:*',line):\n",
    "                if re.search(converted_match_pattern(TAG), line):\n",
    "                    \"\"\":tftag:が見つかったら次の:tftag: の前の行、もしくは行末まで取得する\"\"\"\n",
    "                    \n",
    "                    #print(\"match :\" + line + \" , name :\" + target['name'])\n",
    "                    #print(\"<a href=\\\"file:\" + convertToWSLStyle(full_path) + u\"\\\">\" + target['name'] + u\"</a>\")\n",
    "                    \n",
    "                    tmp = []\n",
    "                    flag = False\n",
    "                    for sline in lines[count+1:]:\n",
    "                        \n",
    "                        #print(\" >>\" + sline)\n",
    "                        \n",
    "                        if match_pattern(':tftag:*',sline.replace('\\n',' ')):\n",
    "                            #print(\"match next pattern\") \n",
    "                            break #次の:tftag:が見つかったらおわり\n",
    "                            \n",
    "                        if flag: tmp.append(sline.replace('\\n',' ')) #すでにdescが見つかって居る場合は、次の:tftag:まで取得を継続\n",
    "                            \n",
    "                        if match_pattern(':desc:*', sline.replace('\\n',' ')):\n",
    "                            tmp.append(sline.replace(':desc:','').replace('\\n',' '))\n",
    "                            flag = True\n",
    "                            \n",
    "                            \n",
    "                    print([target['name'],''.join(tmp)]) # [name , desc] の配列。 descは改行をスペースに置き換えてある\n",
    "                    print(\"<a href=\\\"file:\" \n",
    "                          + convertToWSLStyle(os.path.join(target['drive'], target['path'])) \n",
    "                          + \"\\\">\" + target['name'] + \"</a>\" + ''.join(tmp))\n",
    "                    \n",
    "\n",
    "\n",
    "    finally:\n",
    "        f.close()\n",
    "        print(\"--- file closed\")\n",
    "\n"
   ]
  },
  {
   "cell_type": "code",
   "execution_count": null,
   "metadata": {},
   "outputs": [],
   "source": []
  }
 ],
 "metadata": {
  "kernelspec": {
   "display_name": "Python 3",
   "language": "python",
   "name": "python3"
  },
  "language_info": {
   "codemirror_mode": {
    "name": "ipython",
    "version": 3
   },
   "file_extension": ".py",
   "mimetype": "text/x-python",
   "name": "python",
   "nbconvert_exporter": "python",
   "pygments_lexer": "ipython3",
   "version": "3.6.3"
  }
 },
 "nbformat": 4,
 "nbformat_minor": 2
}
