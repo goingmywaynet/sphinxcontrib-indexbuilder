{
 "cells": [
  {
   "cell_type": "code",
   "execution_count": 1,
   "metadata": {},
   "outputs": [],
   "source": [
    "# coding: -*- utf-8 -*-"
   ]
  },
  {
   "cell_type": "code",
   "execution_count": 2,
   "metadata": {},
   "outputs": [],
   "source": [
    "#"
   ]
  },
  {
   "cell_type": "code",
   "execution_count": 3,
   "metadata": {},
   "outputs": [],
   "source": [
    "import os.path                      # OS処理\n",
    "from chardet.universaldetector import UniversalDetector # 文字エンコード自動判定\n",
    "from collections import OrderedDict # 順序付き辞書(dict)"
   ]
  },
  {
   "cell_type": "code",
   "execution_count": 4,
   "metadata": {},
   "outputs": [],
   "source": [
    "# 定数\n",
    "HEADLINE_DEPTH = 1               # index.rst でタイトル表示する階層数\n",
    "TARGET_FILE_NAME = 'keyfile.txt' # 探索するファイル名\n",
    "TARGET_PATH  = './test'          # 探索するパスの根 windows UNC path (\"//host/computer/dir\") を想定\n",
    "SAVE_PATH = './tmp'              # 保存先パス\n",
    "TARGET_LINK_NAME = 'Contents Folder' # .rst ファイル末尾に追記する元ファイルへのリンク名"
   ]
  },
  {
   "cell_type": "code",
   "execution_count": 5,
   "metadata": {},
   "outputs": [],
   "source": [
    "# Windows のセパレータ'\\\\'への対応として、セパレータが '/' ではない場合は、 '/' を os.sep (OSのデフォルトセパレータ) に置き換える\n",
    "if os.sep != '/':\n",
    "    print('re')\n",
    "    root_path = TARGET_PATH.replace('/', os.sep)\n",
    "    save_path = SAVE_PATH.replace('/',os.sep)\n",
    "else:\n",
    "    root_path = TARGET_PATH\n",
    "    save_path = SAVE_PATH\n",
    "        "
   ]
  },
  {
   "cell_type": "code",
   "execution_count": 6,
   "metadata": {},
   "outputs": [],
   "source": [
    "# 指定のファイル名がリストに存在するかの判定\n",
    "def isContain(filelist, keywoard):\n",
    "    for filename in filelist:\n",
    "        if filename == keywoard:\n",
    "            return True"
   ]
  },
  {
   "cell_type": "code",
   "execution_count": 7,
   "metadata": {},
   "outputs": [],
   "source": [
    "def returnHeading(title,depth=1):       # rst 見出し生成\n",
    "    headingChar = ['=','-','^','\"']\n",
    "    depth = len(headingChar) if depth < 0 or depth > len(headingChar) else depth\n",
    "    length = len(title.encode(\"utf8\"))\n",
    "\n",
    "    #print(title + os.linesep + \"\".join([headingChar[depth-1] for x in range(length)]))\n",
    "    \n",
    "    return title + os.linesep + \"\".join([headingChar[depth-1] for x in range(length)]) + os.linesep\n",
    "\n",
    "    #print(\"\".join([headingChar[depth-1] for x in range(length)]))\n",
    "    #print(len(title.encode(\"utf8\")))"
   ]
  },
  {
   "cell_type": "code",
   "execution_count": 8,
   "metadata": {},
   "outputs": [],
   "source": [
    "# 指定した path を巡回して、target_path_list を作る\n",
    "\n",
    "def walk_path_to_target_path_list(search_root_path, target_file_name):\n",
    "\n",
    "    #target_dict = OrderedDict() # 順序付き辞書(dict)\n",
    "    _target_path_list = [] # 辞書入れリスト\n",
    "\n",
    "    for _root, _dirs, _files in os.walk(search_root_path): # 相対path, サブディレクトリ, 内含ファイルリスト を走査\n",
    "\n",
    "        #print( root,dirs,files) # debug\n",
    "\n",
    "        if (isContain(_files, target_file_name)): # 指定するファイル名を含むディレクトリの場合は以下を処理\n",
    "            _drive, _path = os.path.splitdrive(_root) # ネットワークドライブ名とパス名を分離         \n",
    "            _target_dict = {'drive': _drive,                                 # windows 共有ディレクトリのドライブ名\n",
    "                           'path': _path,                                   # target file を含まない path\n",
    "                           'full_path': os.path.join(_path, target_file_name),   # target file を含む path\n",
    "                           'name': os.path.basename(_path),                 # 最終ディレクトリ名を生成対象ファイル名に\n",
    "                           'depth': _path.count(os.sep)}                    # 階層の深さを\n",
    "            _target_path_list.append(_target_dict)\n",
    "\n",
    "    return sorted(_target_path_list,key=lambda my_dict: my_dict['path'])"
   ]
  },
  {
   "cell_type": "code",
   "execution_count": 9,
   "metadata": {},
   "outputs": [],
   "source": [
    "# index.rst ファイルの中身を作る\n",
    "def create_index_file(target_path_list, headline_depth):\n",
    "    return_ = []                                          # return のためのリスト\n",
    "    before_depth  = 65535\n",
    "    depth_count   = 1\n",
    "\n",
    "    for target in target_path_list:                       # target_path_list を順序良く評価していく\n",
    "    #    print(target)\n",
    "    #    print(\"before_depth =\",before_depth)\n",
    "    #    print(\"current_depth=\",target['depth'])\n",
    "    #    print(\"count        =\",depth_count)\n",
    "    #    print(\"end_depth    =\",end_depth)\n",
    "\n",
    "        if target['depth'] < before_depth :               # 評価の途中で階層が浅くなった場合は評価をリセット\n",
    "            depth_count = 1                               # Headline 化階層カウンタ\n",
    "\n",
    "        if target['depth'] > before_depth :               # 評価の途中で階層が深くなった場合はカウンタ++\n",
    "            depth_count = depth_count + 1\n",
    "\n",
    "        if depth_count <= headline_depth :                # カウンタが headline_depth 範囲内の場合は、見出し化する\n",
    "            #print(depth_count)\n",
    "            #print(os.linesep)\n",
    "            #print(returnHeading(target['name'],depth_count))\n",
    "            return_.append(os.linesep)\n",
    "            return_.append(returnHeading(target['name'],depth_count))\n",
    "            return_.append(os.linesep)\n",
    "\n",
    "        else:\n",
    "            print(target['name'])                         # カウンタが headline_depth 範囲外なら記事ファイルとする\n",
    "            return_.append(target['name'])\n",
    "            return_.append(os.linesep)\n",
    "\n",
    "        before_depth = target['depth']                # 直前の深さを保持\n",
    "\n",
    "    return return_"
   ]
  },
  {
   "cell_type": "code",
   "execution_count": 10,
   "metadata": {},
   "outputs": [],
   "source": [
    "# ディレクトリを走査して、対象ファイルのリストを生成する。\n",
    "target_path_list = walk_path_to_target_path_list(root_path, TARGET_FILE_NAME)"
   ]
  },
  {
   "cell_type": "code",
   "execution_count": 11,
   "metadata": {},
   "outputs": [
    {
     "name": "stdout",
     "output_type": "stream",
     "text": [
      "FolderA1\n",
      "FolderA2\n",
      "FolderA3\n",
      "FolderA4\n",
      "FolderA41\n",
      "FolderB11\n",
      "FolderD21\n"
     ]
    }
   ],
   "source": [
    "# index.rst ファイルを書き出す\n",
    "index_txt = create_index_file(target_path_list, HEADLINE_DEPTH)\n",
    "file = open(os.path.join(save_path,\"index.rst\"), mode='w', encoding='utf-8')\n",
    "file.write(\"\".join(index_txt))\n",
    "file.close()"
   ]
  },
  {
   "cell_type": "code",
   "execution_count": 12,
   "metadata": {},
   "outputs": [],
   "source": [
    "# ファイルの文字エンコード判定\n",
    "def detect_file_encode(file):\n",
    "    detector = UniversalDetector()\n",
    "\n",
    "    try:\n",
    "        with open(file, mode='rb') as f:\n",
    "            while True:\n",
    "                binary = f.readline()\n",
    "                if binary == b'':\n",
    "                    # ファイルを最後まで読みきった\n",
    "                    break\n",
    "\n",
    "                detector.feed(binary)\n",
    "                if detector.done:\n",
    "                    # 十分な確度でエンコーディングが推定できた\n",
    "                    break\n",
    "    finally:\n",
    "        detector.close()\n",
    "\n",
    "    return detector.result\n",
    "    #print(encoding_info)"
   ]
  },
  {
   "cell_type": "code",
   "execution_count": 14,
   "metadata": {},
   "outputs": [],
   "source": [
    "# ターゲットファイルを rst ファイル化\n",
    "for target in target_path_list:\n",
    "    if os.path.exists(target['full_path']): \n",
    "        \n",
    "        #target_path_list の各ファイルを開いていく\n",
    "        _encode = detect_file_encode(target['full_path'])[\"encoding\"] # ファイルの文字コードを自動判定する\n",
    "        if _encode == \"SHIFT_JIS\": _encode = \"cp932\"                  # 自動判定で SHIFT_JIS になる場合は予防的に上位互換の cp932 として扱う\n",
    "        _file = open(target['full_path'],mode='r',encoding=_encode)\n",
    "        _lines = _file.readlines()\n",
    "        _file.close()\n",
    "        \n",
    "        #末尾にリンクを追記する\n",
    "        _lines.append(os.linesep)\n",
    "        _lines.append(\":smblink:`{LINK_NAME} <{LINK_PATH}>`\".format(LINK_NAME=TARGET_LINK_NAME, LINK_PATH=target['path']))\n",
    "        _lines.append(os.linesep)\n",
    "        \n",
    "        #print(os.path.join(save_path,str(target['name']) + \".rst\"))\n",
    "        save_file = open(os.path.join(save_path,str(target['name']) + \".rst\"), mode='w', encoding='utf-8')\n",
    "        for _line in _lines:\n",
    "            save_file.write(_line)\n",
    "            #print(_line)        \n",
    "        save_file.close()\n"
   ]
  },
  {
   "cell_type": "markdown",
   "metadata": {},
   "source": [
    "これらの関数の多くは Windows の一律命名規則 (UNCパス名) を正しくサポートしていません。 splitunc() と ismount() は正しく UNC パス名を操作できます。\n",
    "\n",
    "os.path.splitunc(path)(原文)\n",
    "パス名 path をペア (unc, rest) に分割します。ここで unc は (r'\\\\host\\mount' のような) UNC マウントポイント、そして rest は (r'\\path\\file.ext' のような) パスの残りの部分です。ドライブ名を含むパスでは常に unc が空文字列になります。\n",
    "\n",
    "利用可能: Windows\n",
    "\n",
    "os.path.splitunc(path)\n",
    "Deprecated since version 3.1: Use splitdrive instead.\n"
   ]
  }
 ],
 "metadata": {
  "kernelspec": {
   "display_name": "Python 3",
   "language": "python",
   "name": "python3"
  },
  "language_info": {
   "codemirror_mode": {
    "name": "ipython",
    "version": 3
   },
   "file_extension": ".py",
   "mimetype": "text/x-python",
   "name": "python",
   "nbconvert_exporter": "python",
   "pygments_lexer": "ipython3",
   "version": "3.6.3"
  }
 },
 "nbformat": 4,
 "nbformat_minor": 2
}
