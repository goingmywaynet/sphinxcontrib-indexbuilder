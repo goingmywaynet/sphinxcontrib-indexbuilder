{
 "cells": [
  {
   "cell_type": "code",
   "execution_count": null,
   "metadata": {},
   "outputs": [],
   "source": [
    "#\n",
    "# ToDo : index.rst を save する\n",
    "# ToDo : TARGET_FILE を UTF-8 化しつつ、ファイル名を変更し、 save する"
   ]
  },
  {
   "cell_type": "code",
   "execution_count": 1,
   "metadata": {},
   "outputs": [],
   "source": [
    "import os.path                      # OS処理\n",
    "from collections import OrderedDict # 順序付き辞書(dict)"
   ]
  },
  {
   "cell_type": "code",
   "execution_count": 15,
   "metadata": {},
   "outputs": [],
   "source": [
    "# 定数\n",
    "HEADLINE_DEPTH = 1               # index.rst でタイトル表示する階層数\n",
    "TARGET_FILE_NAME = 'keyfile.txt' # 探索するファイル名\n",
    "TARGET_PATH  = './test'          # 探索するパスの根 windows UNC path (\"//host/computer/dir\") を想定"
   ]
  },
  {
   "cell_type": "code",
   "execution_count": 3,
   "metadata": {},
   "outputs": [],
   "source": [
    "# 環境変数\n",
    "target_file_path = './tmp'       # 保存先"
   ]
  },
  {
   "cell_type": "code",
   "execution_count": 4,
   "metadata": {},
   "outputs": [],
   "source": [
    "# Windows のセパレータ'\\\\'への対応として、セパレータが '/' ではない場合は、 '/' を os.sep (OSのデフォルトセパレータ) に置き換える\n",
    "if os.sep != '/':\n",
    "    print('re')\n",
    "    root_path = TARGET_PATH.replace('/', os.sep)\n",
    "    target_file_path = target_file_path.replace('/',os.sep)\n",
    "else:\n",
    "    root_path = TARGET_PATH\n",
    "        "
   ]
  },
  {
   "cell_type": "code",
   "execution_count": 5,
   "metadata": {},
   "outputs": [],
   "source": [
    "# 指定のファイル名がリストに存在するかの判定\n",
    "def isContain(filelist, keywoard):\n",
    "    for filename in filelist:\n",
    "        if filename == keywoard:\n",
    "            return True"
   ]
  },
  {
   "cell_type": "code",
   "execution_count": 6,
   "metadata": {},
   "outputs": [],
   "source": [
    "def returnHeading(title,depth=1):       # rst 見出し生成\n",
    "    headingChar = ['=','-','^','\"']\n",
    "    depth = len(headingChar) if depth < 0 or depth > len(headingChar) else depth\n",
    "    length = len(title.encode(\"utf8\"))\n",
    "\n",
    "    #print(title + os.linesep + \"\".join([headingChar[depth-1] for x in range(length)]))\n",
    "    \n",
    "    return title + os.linesep + \"\".join([headingChar[depth-1] for x in range(length)]) + os.linesep\n",
    "\n",
    "    #print(\"\".join([headingChar[depth-1] for x in range(length)]))\n",
    "    #print(len(title.encode(\"utf8\")))"
   ]
  },
  {
   "cell_type": "code",
   "execution_count": 7,
   "metadata": {},
   "outputs": [],
   "source": [
    "# 指定した path を巡回して、target_path_list を作る\n",
    "\n",
    "def walk_path_to_target_path_list(search_root_path, target_file_name):\n",
    "\n",
    "    #target_dict = OrderedDict() # 順序付き辞書(dict)\n",
    "    _target_path_list = [] # 辞書入れリスト\n",
    "\n",
    "    for _root, _dirs, _files in os.walk(search_root_path): # 相対path, サブディレクトリ, 内含ファイルリスト を走査\n",
    "\n",
    "        #print( root,dirs,files) # debug\n",
    "\n",
    "        if (isContain(_files, target_file_name)): # 指定するファイル名を含むディレクトリの場合は以下を処理\n",
    "            _drive, _path = os.path.splitdrive(_root) # ネットワークドライブ名とパス名を分離         \n",
    "            _target_dict = {'drive': _drive,                                 # windows 共有ディレクトリのドライブ名\n",
    "                           'path': _path,                                   # target file を含まない path\n",
    "                           'full_path': os.path.join(_path, target_file_name),   # target file を含む path\n",
    "                           'name': os.path.basename(_path),                 # 最終ディレクトリ名を生成対象ファイル名に\n",
    "                           'depth': _path.count(os.sep)}                    # 階層の深さを\n",
    "            _target_path_list.append(_target_dict)\n",
    "\n",
    "    return sorted(_target_path_list,key=lambda my_dict: my_dict['path'])"
   ]
  },
  {
   "cell_type": "code",
   "execution_count": 8,
   "metadata": {},
   "outputs": [],
   "source": [
    "target_path_list = walk_path_to_target_path_list(root_path, TARGET_FILE_NAME)"
   ]
  },
  {
   "cell_type": "code",
   "execution_count": 16,
   "metadata": {},
   "outputs": [
    {
     "name": "stdout",
     "output_type": "stream",
     "text": [
      "\n",
      "\n",
      "FolderA\n",
      "=======\n",
      "\n",
      "FolderA1\n",
      "FolderA2\n",
      "FolderA3\n",
      "FolderA4\n",
      "FolderA41\n",
      "\n",
      "\n",
      "FolderB\n",
      "=======\n",
      "\n",
      "FolderB11\n",
      "\n",
      "\n",
      "FolderD2\n",
      "========\n",
      "\n",
      "FolderD21\n"
     ]
    }
   ],
   "source": [
    "before_depth  = 65535\n",
    "depth_count   = 1\n",
    "\n",
    "for target in target_path_list:                       # target_path_list を順序良く評価していく\n",
    "#    print(target)\n",
    "#    print(\"before_depth =\",before_depth)\n",
    "#    print(\"current_depth=\",target['depth'])\n",
    "#    print(\"count        =\",depth_count)\n",
    "#    print(\"end_depth    =\",end_depth)\n",
    "    \n",
    "    if target['depth'] < before_depth :               # 評価の途中で階層が浅くなった場合は評価をリセット\n",
    "        depth_count = 1                               # Headline 化階層カウンタ\n",
    "\n",
    "    if target['depth'] > before_depth :               # 評価の途中で階層が深くなった場合はカウンタ++\n",
    "        depth_count = depth_count + 1\n",
    "\n",
    "    if depth_count <= HEADLINE_DEPTH :                # カウンタが HEADLINE_DEPTH 範囲内の場合は、見出し化する\n",
    "        #print(depth_count)\n",
    "        print(os.linesep)\n",
    "        print(returnHeading(target['name'],depth_count))\n",
    "        \n",
    "    else:\n",
    "        print(target['name'])                         # カウンタが HEADLINE_DEPTH 範囲外なら記事ファイルとする\n",
    "        \n",
    "    before_depth = target['depth']                # 直前の深さを保持\n"
   ]
  },
  {
   "cell_type": "code",
   "execution_count": 10,
   "metadata": {},
   "outputs": [
    {
     "data": {
      "text/plain": [
       "'ほげ\\n======\\n'"
      ]
     },
     "execution_count": 10,
     "metadata": {},
     "output_type": "execute_result"
    }
   ],
   "source": [
    "returnHeading(\"ほげ\")"
   ]
  },
  {
   "cell_type": "code",
   "execution_count": null,
   "metadata": {},
   "outputs": [],
   "source": []
  },
  {
   "cell_type": "code",
   "execution_count": 11,
   "metadata": {
    "collapsed": true
   },
   "outputs": [
    {
     "data": {
      "text/plain": [
       "[{'depth': 2,\n",
       "  'drive': '',\n",
       "  'full_path': './test/FolderA/keyfile.txt',\n",
       "  'name': 'FolderA',\n",
       "  'path': './test/FolderA'},\n",
       " {'depth': 3,\n",
       "  'drive': '',\n",
       "  'full_path': './test/FolderA/FolderA1/keyfile.txt',\n",
       "  'name': 'FolderA1',\n",
       "  'path': './test/FolderA/FolderA1'},\n",
       " {'depth': 3,\n",
       "  'drive': '',\n",
       "  'full_path': './test/FolderA/FolderA2/keyfile.txt',\n",
       "  'name': 'FolderA2',\n",
       "  'path': './test/FolderA/FolderA2'},\n",
       " {'depth': 3,\n",
       "  'drive': '',\n",
       "  'full_path': './test/FolderA/FolderA3/keyfile.txt',\n",
       "  'name': 'FolderA3',\n",
       "  'path': './test/FolderA/FolderA3'},\n",
       " {'depth': 3,\n",
       "  'drive': '',\n",
       "  'full_path': './test/FolderA/FolderA4/keyfile.txt',\n",
       "  'name': 'FolderA4',\n",
       "  'path': './test/FolderA/FolderA4'},\n",
       " {'depth': 4,\n",
       "  'drive': '',\n",
       "  'full_path': './test/FolderA/FolderA4/FolderA41/keyfile.txt',\n",
       "  'name': 'FolderA41',\n",
       "  'path': './test/FolderA/FolderA4/FolderA41'},\n",
       " {'depth': 2,\n",
       "  'drive': '',\n",
       "  'full_path': './test/FolderB/keyfile.txt',\n",
       "  'name': 'FolderB',\n",
       "  'path': './test/FolderB'},\n",
       " {'depth': 4,\n",
       "  'drive': '',\n",
       "  'full_path': './test/FolderB/FolderB1/FolderB11/keyfile.txt',\n",
       "  'name': 'FolderB11',\n",
       "  'path': './test/FolderB/FolderB1/FolderB11'},\n",
       " {'depth': 3,\n",
       "  'drive': '',\n",
       "  'full_path': './test/FolderD/FolderD2/keyfile.txt',\n",
       "  'name': 'FolderD2',\n",
       "  'path': './test/FolderD/FolderD2'},\n",
       " {'depth': 4,\n",
       "  'drive': '',\n",
       "  'full_path': './test/FolderD/FolderD2/FolderD21/keyfile.txt',\n",
       "  'name': 'FolderD21',\n",
       "  'path': './test/FolderD/FolderD2/FolderD21'}]"
      ]
     },
     "execution_count": 11,
     "metadata": {},
     "output_type": "execute_result"
    }
   ],
   "source": [
    "target_path_list"
   ]
  },
  {
   "cell_type": "code",
   "execution_count": 12,
   "metadata": {},
   "outputs": [
    {
     "ename": "KeyError",
     "evalue": "'network_drive'",
     "output_type": "error",
     "traceback": [
      "\u001b[0;31m---------------------------------------------------------------------------\u001b[0m",
      "\u001b[0;31mKeyError\u001b[0m                                  Traceback (most recent call last)",
      "\u001b[0;32m<ipython-input-12-8f0a37800b59>\u001b[0m in \u001b[0;36m<module>\u001b[0;34m()\u001b[0m\n\u001b[0;32m----> 1\u001b[0;31m \u001b[0mtarget_path_list\u001b[0m\u001b[0;34m[\u001b[0m\u001b[0;36m0\u001b[0m\u001b[0;34m]\u001b[0m\u001b[0;34m[\u001b[0m\u001b[0;34m'network_drive'\u001b[0m\u001b[0;34m]\u001b[0m\u001b[0;34m\u001b[0m\u001b[0m\n\u001b[0m",
      "\u001b[0;31mKeyError\u001b[0m: 'network_drive'"
     ]
    }
   ],
   "source": [
    "target_path_list[0]['network_drive']"
   ]
  },
  {
   "cell_type": "markdown",
   "metadata": {},
   "source": [
    "これらの関数の多くは Windows の一律命名規則 (UNCパス名) を正しくサポートしていません。 splitunc() と ismount() は正しく UNC パス名を操作できます。\n",
    "\n",
    "os.path.splitunc(path)(原文)\n",
    "パス名 path をペア (unc, rest) に分割します。ここで unc は (r'\\\\host\\mount' のような) UNC マウントポイント、そして rest は (r'\\path\\file.ext' のような) パスの残りの部分です。ドライブ名を含むパスでは常に unc が空文字列になります。\n",
    "\n",
    "利用可能: Windows\n",
    "\n",
    "os.path.splitunc(path)\n",
    "Deprecated since version 3.1: Use splitdrive instead.\n"
   ]
  }
 ],
 "metadata": {
  "kernelspec": {
   "display_name": "Python 3",
   "language": "python",
   "name": "python3"
  },
  "language_info": {
   "codemirror_mode": {
    "name": "ipython",
    "version": 3
   },
   "file_extension": ".py",
   "mimetype": "text/x-python",
   "name": "python",
   "nbconvert_exporter": "python",
   "pygments_lexer": "ipython3",
   "version": "3.6.3"
  }
 },
 "nbformat": 4,
 "nbformat_minor": 2
}
