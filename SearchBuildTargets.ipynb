{
 "cells": [
  {
   "cell_type": "code",
   "execution_count": 1,
   "metadata": {},
   "outputs": [],
   "source": [
    "import os.path                      # OS処理\n",
    "from collections import OrderedDict # 順序付き辞書(dict)"
   ]
  },
  {
   "cell_type": "code",
   "execution_count": 58,
   "metadata": {},
   "outputs": [],
   "source": [
    "# 環境変数\n",
    "root_path  = './test'            # 探索するパスの根 windows UNC path (\"//host/computer/dir\") を想定\n",
    "search_file_name = 'keyfile.txt' # 探索するファイル名\n",
    "target_file_path = './tmp'       # 保存先\n",
    "headline_depth = 3               # index.rst でタイトル表示する階層数"
   ]
  },
  {
   "cell_type": "code",
   "execution_count": 3,
   "metadata": {},
   "outputs": [],
   "source": [
    "# Windows のセパレータ'\\\\'への対応として、セパレータが '/' ではない場合は、 '/' を os.sep (OSのデフォルトセパレータ) に置き換える\n",
    "if os.sep != '/':\n",
    "    print('re')\n",
    "    root_path = root_path.replace('/', os.sep)\n",
    "    target_file_path = target_file_path.replace('/',os.sep)"
   ]
  },
  {
   "cell_type": "code",
   "execution_count": 4,
   "metadata": {},
   "outputs": [],
   "source": [
    "# 指定のファイル名がリストに存在するかの判定\n",
    "def isContain(filelist, keywoard):\n",
    "    for filename in filelist:\n",
    "        if filename == keywoard:\n",
    "            return True"
   ]
  },
  {
   "cell_type": "code",
   "execution_count": 5,
   "metadata": {},
   "outputs": [],
   "source": [
    "# 指定した path を巡回して、target_path_list を作る\n",
    "\n",
    "#target_dict = OrderedDict() # 順序付き辞書(dict)\n",
    "target_path_list = [] # 辞書入れリスト\n",
    "\n",
    "for root, dirs, files in os.walk(root_path): # 相対path, サブディレクトリ, 内含ファイルリスト を走査\n",
    "\n",
    "    #print( root,dirs,files) # debug\n",
    "    \n",
    "    if (isContain(files, search_file_name)): # 指定するファイル名を含むディレクトリの場合は以下を処理\n",
    "        drive, path = os.path.splitdrive(root) # ネットワークドライブ名とパス名を分離         \n",
    "        target_dict = {'drive': drive,                                 # windows 共有ディレクトリのドライブ名\n",
    "                       'path': os.path.join(path, search_file_name),   # 元ネタファイルの相対パス\n",
    "                       'name': os.path.basename(path),                 # 最終ディレクトリ名を生成対象ファイル名に\n",
    "                       'depth': path.count(os.sep)}                    # 階層の深さを\n",
    "        target_path_list.append(target_dict)\n",
    "    "
   ]
  },
  {
   "cell_type": "code",
   "execution_count": 60,
   "metadata": {},
   "outputs": [
    {
     "name": "stdout",
     "output_type": "stream",
     "text": [
      "1\n",
      "#FolderA\n",
      "2\n",
      "#FolderA1\n",
      "2\n",
      "#FolderA2\n",
      "2\n",
      "#FolderA3\n",
      "2\n",
      "#FolderA4\n",
      "1\n",
      "#FolderB\n",
      "2\n",
      "#FolderB11\n"
     ]
    }
   ],
   "source": [
    "before_depth  = 65535\n",
    "depth_count   = 1\n",
    "\n",
    "for target in target_path_list:                       # target_path_list を順序良く評価していく\n",
    "#    print(target)\n",
    "#    print(\"before_depth =\",before_depth)\n",
    "#    print(\"current_depth=\",target['depth'])\n",
    "#    print(\"count        =\",depth_count)\n",
    "#    print(\"end_depth    =\",end_depth)\n",
    "    \n",
    "    if target['depth'] < before_depth :               # 評価の途中で階層が浅くなった場合は評価をリセット\n",
    "        depth_count = 1                               # Headline 化階層カウンタ\n",
    "\n",
    "    if target['depth'] > before_depth :               # 評価の途中で階層が深くなった場合はカウンタ++\n",
    "        depth_count = depth_count + 1\n",
    "\n",
    "    if depth_count <= headline_depth :                # カウンタが headline_depth 範囲内の場合は、Headline 化する\n",
    "        print(depth_count)\n",
    "        print(\"#\" + target['name'])                # TODO:ヘッドライン処理\n",
    "        \n",
    "    before_depth = target['depth']                # 直前の深さを保持\n"
   ]
  },
  {
   "cell_type": "code",
   "execution_count": null,
   "metadata": {},
   "outputs": [],
   "source": []
  },
  {
   "cell_type": "code",
   "execution_count": null,
   "metadata": {},
   "outputs": [],
   "source": []
  },
  {
   "cell_type": "code",
   "execution_count": null,
   "metadata": {},
   "outputs": [],
   "source": []
  },
  {
   "cell_type": "code",
   "execution_count": 8,
   "metadata": {},
   "outputs": [
    {
     "data": {
      "text/plain": [
       "[{'depth': 2,\n",
       "  'drive': '',\n",
       "  'name': 'FolderA',\n",
       "  'path': './test/FolderA/keyfile.txt'},\n",
       " {'depth': 3,\n",
       "  'drive': '',\n",
       "  'name': 'FolderA1',\n",
       "  'path': './test/FolderA/FolderA1/keyfile.txt'},\n",
       " {'depth': 3,\n",
       "  'drive': '',\n",
       "  'name': 'FolderA2',\n",
       "  'path': './test/FolderA/FolderA2/keyfile.txt'},\n",
       " {'depth': 3,\n",
       "  'drive': '',\n",
       "  'name': 'FolderA3',\n",
       "  'path': './test/FolderA/FolderA3/keyfile.txt'},\n",
       " {'depth': 3,\n",
       "  'drive': '',\n",
       "  'name': 'FolderA4',\n",
       "  'path': './test/FolderA/FolderA4/keyfile.txt'},\n",
       " {'depth': 2,\n",
       "  'drive': '',\n",
       "  'name': 'FolderB',\n",
       "  'path': './test/FolderB/keyfile.txt'},\n",
       " {'depth': 4,\n",
       "  'drive': '',\n",
       "  'name': 'FolderB11',\n",
       "  'path': './test/FolderB/FolderB1/FolderB11/keyfile.txt'}]"
      ]
     },
     "execution_count": 8,
     "metadata": {},
     "output_type": "execute_result"
    }
   ],
   "source": [
    "target_path_list"
   ]
  },
  {
   "cell_type": "code",
   "execution_count": 9,
   "metadata": {},
   "outputs": [
    {
     "data": {
      "text/plain": [
       "[{'depth': 2,\n",
       "  'drive': '',\n",
       "  'name': 'FolderA',\n",
       "  'path': './test/FolderA/keyfile.txt'},\n",
       " {'depth': 2,\n",
       "  'drive': '',\n",
       "  'name': 'FolderB',\n",
       "  'path': './test/FolderB/keyfile.txt'},\n",
       " {'depth': 3,\n",
       "  'drive': '',\n",
       "  'name': 'FolderA1',\n",
       "  'path': './test/FolderA/FolderA1/keyfile.txt'},\n",
       " {'depth': 3,\n",
       "  'drive': '',\n",
       "  'name': 'FolderA2',\n",
       "  'path': './test/FolderA/FolderA2/keyfile.txt'},\n",
       " {'depth': 3,\n",
       "  'drive': '',\n",
       "  'name': 'FolderA3',\n",
       "  'path': './test/FolderA/FolderA3/keyfile.txt'},\n",
       " {'depth': 3,\n",
       "  'drive': '',\n",
       "  'name': 'FolderA4',\n",
       "  'path': './test/FolderA/FolderA4/keyfile.txt'},\n",
       " {'depth': 4,\n",
       "  'drive': '',\n",
       "  'name': 'FolderB11',\n",
       "  'path': './test/FolderB/FolderB1/FolderB11/keyfile.txt'}]"
      ]
     },
     "execution_count": 9,
     "metadata": {},
     "output_type": "execute_result"
    }
   ],
   "source": [
    "sorted(target_path_list, key=lambda x:x['depth'])"
   ]
  },
  {
   "cell_type": "code",
   "execution_count": 10,
   "metadata": {},
   "outputs": [
    {
     "ename": "KeyError",
     "evalue": "'network_drive'",
     "output_type": "error",
     "traceback": [
      "\u001b[0;31m---------------------------------------------------------------------------\u001b[0m",
      "\u001b[0;31mKeyError\u001b[0m                                  Traceback (most recent call last)",
      "\u001b[0;32m<ipython-input-10-8f0a37800b59>\u001b[0m in \u001b[0;36m<module>\u001b[0;34m()\u001b[0m\n\u001b[0;32m----> 1\u001b[0;31m \u001b[0mtarget_path_list\u001b[0m\u001b[0;34m[\u001b[0m\u001b[0;36m0\u001b[0m\u001b[0;34m]\u001b[0m\u001b[0;34m[\u001b[0m\u001b[0;34m'network_drive'\u001b[0m\u001b[0;34m]\u001b[0m\u001b[0;34m\u001b[0m\u001b[0m\n\u001b[0m",
      "\u001b[0;31mKeyError\u001b[0m: 'network_drive'"
     ]
    }
   ],
   "source": [
    "target_path_list[0]['network_drive']"
   ]
  },
  {
   "cell_type": "markdown",
   "metadata": {},
   "source": [
    "これらの関数の多くは Windows の一律命名規則 (UNCパス名) を正しくサポートしていません。 splitunc() と ismount() は正しく UNC パス名を操作できます。\n",
    "\n",
    "os.path.splitunc(path)(原文)\n",
    "パス名 path をペア (unc, rest) に分割します。ここで unc は (r'\\\\host\\mount' のような) UNC マウントポイント、そして rest は (r'\\path\\file.ext' のような) パスの残りの部分です。ドライブ名を含むパスでは常に unc が空文字列になります。\n",
    "\n",
    "利用可能: Windows\n",
    "\n",
    "os.path.splitunc(path)\n",
    "Deprecated since version 3.1: Use splitdrive instead.\n"
   ]
  },
  {
   "cell_type": "code",
   "execution_count": null,
   "metadata": {},
   "outputs": [],
   "source": [
    "os.sep"
   ]
  },
  {
   "cell_type": "code",
   "execution_count": null,
   "metadata": {},
   "outputs": [],
   "source": [
    "for path in target_path_list:\n",
    "    print (os.path.splitdrive(path[0]))"
   ]
  },
  {
   "cell_type": "markdown",
   "metadata": {},
   "source": []
  }
 ],
 "metadata": {
  "kernelspec": {
   "display_name": "Python 3",
   "language": "python",
   "name": "python3"
  },
  "language_info": {
   "codemirror_mode": {
    "name": "ipython",
    "version": 3
   },
   "file_extension": ".py",
   "mimetype": "text/x-python",
   "name": "python",
   "nbconvert_exporter": "python",
   "pygments_lexer": "ipython3",
   "version": "3.6.3"
  }
 },
 "nbformat": 4,
 "nbformat_minor": 2
}
